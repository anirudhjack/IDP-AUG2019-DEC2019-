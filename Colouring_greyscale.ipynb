{
  "nbformat": 4,
  "nbformat_minor": 0,
  "metadata": {
    "colab": {
      "name": "Colouring_greyscale.ipynb",
      "provenance": [],
      "collapsed_sections": [],
      "toc_visible": true
    },
    "kernelspec": {
      "name": "python3",
      "display_name": "Python 3"
    },
    "accelerator": "GPU"
  },
  "cells": [
    {
      "cell_type": "code",
      "metadata": {
        "id": "gdzrhbEeesFr",
        "colab_type": "code",
        "outputId": "ce923310-0825-48ec-f220-d158fe2adc6e",
        "colab": {
          "base_uri": "https://localhost:8080/",
          "height": 122
        }
      },
      "source": [
        "from google.colab import drive\n",
        "drive.mount('/content/drive')"
      ],
      "execution_count": 1,
      "outputs": [
        {
          "output_type": "stream",
          "text": [
            "Go to this URL in a browser: https://accounts.google.com/o/oauth2/auth?client_id=947318989803-6bn6qk8qdgf4n4g3pfee6491hc0brc4i.apps.googleusercontent.com&redirect_uri=urn%3aietf%3awg%3aoauth%3a2.0%3aoob&response_type=code&scope=email%20https%3a%2f%2fwww.googleapis.com%2fauth%2fdocs.test%20https%3a%2f%2fwww.googleapis.com%2fauth%2fdrive%20https%3a%2f%2fwww.googleapis.com%2fauth%2fdrive.photos.readonly%20https%3a%2f%2fwww.googleapis.com%2fauth%2fpeopleapi.readonly\n",
            "\n",
            "Enter your authorization code:\n",
            "··········\n",
            "Mounted at /content/drive\n"
          ],
          "name": "stdout"
        }
      ]
    },
    {
      "cell_type": "markdown",
      "metadata": {
        "id": "Po0JEVVdoHfH",
        "colab_type": "text"
      },
      "source": [
        "$\n",
        "Setup\\;python\\;environment\\;and\\;change\\;the \\;current\\;working\\;directory\n",
        "$"
      ]
    },
    {
      "cell_type": "code",
      "metadata": {
        "id": "piDmAsqFG0gU",
        "colab_type": "code",
        "outputId": "cc7406f4-5f2e-42c4-b4e3-7a15d34e4743",
        "colab": {
          "base_uri": "https://localhost:8080/",
          "height": 632
        }
      },
      "source": [
        "!pip install torch torchvision\n",
        "!pip install Pillow==4.0.0\n",
        "%mkdir -p /content/IDP/\n",
        "%cd /content/IDP/"
      ],
      "execution_count": 3,
      "outputs": [
        {
          "output_type": "stream",
          "text": [
            "Requirement already satisfied: torch in /usr/local/lib/python3.6/dist-packages (1.3.1)\n",
            "Requirement already satisfied: torchvision in /usr/local/lib/python3.6/dist-packages (0.4.2)\n",
            "Requirement already satisfied: numpy in /usr/local/lib/python3.6/dist-packages (from torch) (1.17.4)\n",
            "Collecting pillow>=4.1.1\n",
            "\u001b[?25l  Downloading https://files.pythonhosted.org/packages/10/5c/0e94e689de2476c4c5e644a3bd223a1c1b9e2bdb7c510191750be74fa786/Pillow-6.2.1-cp36-cp36m-manylinux1_x86_64.whl (2.1MB)\n",
            "\u001b[K     |████████████████████████████████| 2.1MB 22.9MB/s \n",
            "\u001b[?25hRequirement already satisfied: six in /usr/local/lib/python3.6/dist-packages (from torchvision) (1.12.0)\n",
            "\u001b[31mERROR: albumentations 0.1.12 has requirement imgaug<0.2.7,>=0.2.5, but you'll have imgaug 0.2.9 which is incompatible.\u001b[0m\n",
            "Installing collected packages: pillow\n",
            "  Found existing installation: Pillow 4.0.0\n",
            "    Uninstalling Pillow-4.0.0:\n",
            "      Successfully uninstalled Pillow-4.0.0\n",
            "Successfully installed pillow-6.2.1\n"
          ],
          "name": "stdout"
        },
        {
          "output_type": "display_data",
          "data": {
            "application/vnd.colab-display-data+json": {
              "pip_warning": {
                "packages": [
                  "PIL"
                ]
              }
            }
          },
          "metadata": {
            "tags": []
          }
        },
        {
          "output_type": "stream",
          "text": [
            "Collecting Pillow==4.0.0\n",
            "  Using cached https://files.pythonhosted.org/packages/37/e8/b3fbf87b0188d22246678f8cd61e23e31caa1769ebc06f1664e2e5fe8a17/Pillow-4.0.0-cp36-cp36m-manylinux1_x86_64.whl\n",
            "Requirement already satisfied: olefile in /usr/local/lib/python3.6/dist-packages (from Pillow==4.0.0) (0.46)\n",
            "\u001b[31mERROR: torchvision 0.4.2 has requirement pillow>=4.1.1, but you'll have pillow 4.0.0 which is incompatible.\u001b[0m\n",
            "\u001b[31mERROR: scikit-image 0.15.0 has requirement pillow>=4.3.0, but you'll have pillow 4.0.0 which is incompatible.\u001b[0m\n",
            "\u001b[31mERROR: albumentations 0.1.12 has requirement imgaug<0.2.7,>=0.2.5, but you'll have imgaug 0.2.9 which is incompatible.\u001b[0m\n",
            "Installing collected packages: Pillow\n",
            "  Found existing installation: Pillow 6.2.1\n",
            "    Uninstalling Pillow-6.2.1:\n",
            "      Successfully uninstalled Pillow-6.2.1\n",
            "Successfully installed Pillow-4.0.0\n"
          ],
          "name": "stdout"
        },
        {
          "output_type": "display_data",
          "data": {
            "application/vnd.colab-display-data+json": {
              "pip_warning": {
                "packages": [
                  "PIL"
                ]
              }
            }
          },
          "metadata": {
            "tags": []
          }
        },
        {
          "output_type": "stream",
          "text": [
            "/content/IDP\n"
          ],
          "name": "stdout"
        }
      ]
    },
    {
      "cell_type": "code",
      "metadata": {
        "id": "wa5-onJhoSeM",
        "colab_type": "code",
        "colab": {}
      },
      "source": [
        "# adapted from \n",
        "# https://github.com/fchollet/keras/blob/master/keras/datasets/cifar10.py\n",
        "\n",
        "import os\n",
        "from six.moves.urllib.request import urlretrieve\n",
        "import tarfile\n",
        "import numpy as np\n",
        "import pickle\n",
        "import sys\n",
        "import PIL\n",
        "from PIL import Image\n",
        "\n",
        "\n",
        "def get_file(fname,\n",
        "             origin,\n",
        "             untar=False,\n",
        "             extract=False,\n",
        "             archive_format='auto',\n",
        "             cache_dir='data'):\n",
        "    datadir = os.path.join(cache_dir)\n",
        "    if not os.path.exists(datadir):\n",
        "        os.makedirs(datadir)\n",
        "\n",
        "    if untar:\n",
        "        untar_fpath = os.path.join(datadir, fname)\n",
        "        fpath = untar_fpath + '.tar.gz'\n",
        "    else:\n",
        "        fpath = os.path.join(datadir, fname)\n",
        "    \n",
        "    print(fpath)\n",
        "    if not os.path.exists(fpath):\n",
        "        print('Downloading data from', origin)\n",
        "\n",
        "        error_msg = 'URL fetch failure on {}: {} -- {}'\n",
        "        try:\n",
        "            try:\n",
        "                urlretrieve(origin, fpath)\n",
        "            except URLError as e:\n",
        "                raise Exception(error_msg.format(origin, e.errno, e.reason))\n",
        "            except HTTPError as e:\n",
        "                raise Exception(error_msg.format(origin, e.code, e.msg))\n",
        "        except (Exception, KeyboardInterrupt) as e:\n",
        "            if os.path.exists(fpath):\n",
        "                os.remove(fpath)\n",
        "            raise\n",
        "\n",
        "    if untar:\n",
        "        if not os.path.exists(untar_fpath):\n",
        "            print('Extracting file.')\n",
        "            with tarfile.open(fpath) as archive:\n",
        "                archive.extractall(datadir)\n",
        "        return untar_fpath\n",
        "\n",
        "    if extract:\n",
        "        _extract_archive(fpath, datadir, archive_format)\n",
        "\n",
        "    return fpath\n",
        "\n",
        "\n",
        "\n",
        "def load_batch(fpath, label_key='labels'):\n",
        "    \"\"\"Internal utility for parsing CIFAR data.\n",
        "    # Arguments\n",
        "        fpath: path the file to parse.\n",
        "        label_key: key for label data in the retrieve\n",
        "            dictionary.\n",
        "    # Returns\n",
        "        A tuple `(data, labels)`.\n",
        "    \"\"\"\n",
        "    f = open(fpath, 'rb')\n",
        "    if sys.version_info < (3,):\n",
        "        d = pickle.load(f)\n",
        "    else:\n",
        "        d = pickle.load(f, encoding='bytes')\n",
        "        # decode utf8\n",
        "        d_decoded = {}\n",
        "        for k, v in d.items():\n",
        "            d_decoded[k.decode('utf8')] = v\n",
        "        d = d_decoded\n",
        "    f.close()\n",
        "    data = d['data']\n",
        "    labels = d[label_key]\n",
        "\n",
        "    data = data.reshape(data.shape[0], 3, 32, 32)\n",
        "    return data, labels\n",
        "\n",
        "def load_cifar10(transpose=False):\n",
        "    \"\"\"Loads CIFAR10 dataset.\n",
        "    # Returns\n",
        "        Tuple of Numpy arrays: `(x_train, y_train), (x_test, y_test)`.\n",
        "    \"\"\"\n",
        "    dirname = 'cifar-10-batches-py'\n",
        "    origin = 'http://www.cs.toronto.edu/~kriz/cifar-10-python.tar.gz'\n",
        "    path = get_file(dirname, origin=origin, untar=True)\n",
        "\n",
        "    num_train_samples = 50000\n",
        "\n",
        "    x_train = np.zeros((num_train_samples, 3, 32, 32), dtype='uint8')\n",
        "    y_train = np.zeros((num_train_samples,), dtype='uint8')\n",
        "\n",
        "    for i in range(1, 6):\n",
        "        fpath = os.path.join(path, 'data_batch_' + str(i))\n",
        "        data, labels = load_batch(fpath)\n",
        "        x_train[(i - 1) * 10000: i * 10000, :, :, :] = data\n",
        "        y_train[(i - 1) * 10000: i * 10000] = labels\n",
        "\n",
        "    fpath = os.path.join(path, 'test_batch')\n",
        "    x_test, y_test = load_batch(fpath)\n",
        "\n",
        "    y_train = np.reshape(y_train, (len(y_train), 1))\n",
        "    y_test = np.reshape(y_test, (len(y_test), 1))\n",
        "\n",
        "    if transpose:\n",
        "        x_train = x_train.transpose(0, 2, 3, 1)\n",
        "        x_test = x_test.transpose(0, 2, 3, 1)\n",
        "    return (x_train, y_train), (x_test, y_test)\n"
      ],
      "execution_count": 0,
      "outputs": []
    },
    {
      "cell_type": "markdown",
      "metadata": {
        "id": "dr7SxwQAoar2",
        "colab_type": "text"
      },
      "source": [
        "$\n",
        "Download\\;CIFAR\\;datasets\\;and\\;other\\;related \\;files\n",
        "$"
      ]
    },
    {
      "cell_type": "code",
      "metadata": {
        "id": "l7fti3cryStt",
        "colab_type": "code",
        "outputId": "d0e366b7-698a-4097-9e26-d23e7f6373c4",
        "colab": {
          "base_uri": "https://localhost:8080/",
          "height": 119
        }
      },
      "source": [
        "colours_fpath = get_file(fname='colours', \n",
        "                         origin='http://www.cs.toronto.edu/~jba/kmeans_colour_a2.tar.gz', \n",
        "                         untar=True)\n",
        "m = load_cifar10()"
      ],
      "execution_count": 5,
      "outputs": [
        {
          "output_type": "stream",
          "text": [
            "data/colours.tar.gz\n",
            "Downloading data from http://www.cs.toronto.edu/~jba/kmeans_colour_a2.tar.gz\n",
            "Extracting file.\n",
            "data/cifar-10-batches-py.tar.gz\n",
            "Downloading data from http://www.cs.toronto.edu/~kriz/cifar-10-python.tar.gz\n",
            "Extracting file.\n"
          ],
          "name": "stdout"
        }
      ]
    },
    {
      "cell_type": "markdown",
      "metadata": {
        "id": "oWyZwl9VKkxD",
        "colab_type": "text"
      },
      "source": [
        "$\n",
        "Data\\;preprocessing\n",
        "$"
      ]
    },
    {
      "cell_type": "code",
      "metadata": {
        "id": "bTF1TQObE6DG",
        "colab_type": "code",
        "colab": {}
      },
      "source": [
        "from __future__ import print_function\n",
        "import argparse\n",
        "import math\n",
        "import numpy as np\n",
        "import numpy.random as npr\n",
        "import scipy.misc\n",
        "import imageio\n",
        "import time\n",
        "import torch \n",
        "import torch.nn as nn\n",
        "import torch.nn.functional as F\n",
        "from torch.autograd import Variable\n",
        "import matplotlib\n",
        "import matplotlib.pyplot as plt \n",
        "\n",
        "\n",
        "#from load_data import load_cifar10\n",
        "\n",
        "HORSE_CATEGORY = 7\n",
        "\n",
        "def get_rgb_cat(xs, colours):\n",
        "    if np.shape(xs)[0] < 100:\n",
        "        return _get_rgb_cat(xs)\n",
        "    batch_size = 100\n",
        "    nexts = []\n",
        "    for i in range(0, np.shape(xs)[0], batch_size):\n",
        "        next = _get_rgb_cat(xs[i:i+batch_size,:,:,:], colours)\n",
        "        nexts.append(next)\n",
        "    result = np.concatenate(nexts, axis=0)\n",
        "    return result\n",
        "\n",
        "def _get_rgb_cat(xs, colours):\n",
        "    num_colours = np.shape(colours)[0]\n",
        "    xs = np.expand_dims(xs, 0)\n",
        "    cs = np.reshape(colours, [num_colours,1,3,1,1])\n",
        "    dists = np.linalg.norm(xs-cs, axis=2) # 2 = colour axis\n",
        "    cat = np.argmin(dists, axis=0)\n",
        "    cat = np.expand_dims(cat, axis=1)\n",
        "    return cat\n",
        "\n",
        "def get_cat_rgb(cats, colours):\n",
        "    return colours[cats]\n",
        "\n",
        "def process(xs, ys, max_pixel=256.0, downsize_input=False):\n",
        "    xs = xs / max_pixel\n",
        "    xs = xs[np.where(ys == HORSE_CATEGORY)[0], :, :, :]\n",
        "    npr.shuffle(xs)\n",
        "    \n",
        "    grey = np.mean(xs, axis=1, keepdims=True)\n",
        "\n",
        "    if downsize_input:\n",
        "      downsize_module = nn.Sequential(nn.AvgPool2d(2),\n",
        "                               nn.AvgPool2d(2), \n",
        "                               nn.Upsample(scale_factor=2), \n",
        "                               nn.Upsample(scale_factor=2))\n",
        "      xs_downsized = downsize_module.forward(torch.from_numpy(xs).float())\n",
        "      xs_downsized = xs_downsized.data.numpy()\n",
        "      return (xs, xs_downsized)\n",
        "    else:\n",
        "      return (xs, grey)\n",
        "\n",
        "\n",
        "def get_batch(x, y, batch_size):\n",
        "    N = np.shape(x)[0]\n",
        "    assert N == np.shape(y)[0]\n",
        "    for i in range(0, N, batch_size):\n",
        "        batch_x = x[i:i+batch_size, :,:,:]\n",
        "        batch_y = y[i:i+batch_size, :,:,:]\n",
        "        yield (batch_x, batch_y)\n",
        "\n",
        "def get_torch_vars(xs, ys, gpu=False):\n",
        "    xs = torch.from_numpy(xs).float()\n",
        "    ys = torch.from_numpy(ys).long()\n",
        "    if gpu:\n",
        "        xs = xs.cuda()\n",
        "        ys = ys.cuda()\n",
        "    return Variable(xs), Variable(ys)\n",
        "\n",
        "def compute_loss(criterion, outputs, labels, batch_size, num_colours):\n",
        "    loss_out = outputs.transpose(1,3) \\\n",
        "                      .contiguous() \\\n",
        "                      .view([batch_size*32*32, num_colours])\n",
        "    loss_lab = labels.transpose(1,3) \\\n",
        "                      .contiguous() \\\n",
        "                      .view([batch_size*32*32])\n",
        "    return criterion(loss_out, loss_lab)\n",
        "\n",
        "def run_validation_step(cnn, criterion, test_grey, test_rgb_cat, batch_size,\n",
        "                        colours, plotpath=None, visualize=True, downsize_input=False):\n",
        "    correct = 0.0\n",
        "    total = 0.0\n",
        "    losses = []\n",
        "    num_colours = np.shape(colours)[0]\n",
        "    for i, (xs, ys) in enumerate(get_batch(test_grey,\n",
        "                                           test_rgb_cat,\n",
        "                                           batch_size)):\n",
        "        images, labels = get_torch_vars(xs, ys, args.gpu)\n",
        "        outputs = cnn(images)\n",
        "\n",
        "        val_loss = compute_loss(criterion,\n",
        "                                outputs,\n",
        "                                labels,\n",
        "                                batch_size=args.batch_size,\n",
        "                                num_colours=num_colours)\n",
        "        losses.append(val_loss.data.item())\n",
        "\n",
        "        _, predicted = torch.max(outputs.data, 1, keepdim=True)\n",
        "        total += labels.size(0) * 32 * 32\n",
        "        correct += (predicted == labels.data).sum()\n",
        "\n",
        "    if plotpath: # only plot if a path is provided\n",
        "        plot(xs, ys, predicted.cpu().numpy(), colours, \n",
        "             plotpath, visualize=visualize, compare_bilinear=downsize_input)\n",
        "\n",
        "    val_loss = np.mean(losses)\n",
        "    val_acc = 100 * correct / total\n",
        "    return val_loss, val_acc\n"
      ],
      "execution_count": 0,
      "outputs": []
    },
    {
      "cell_type": "markdown",
      "metadata": {
        "id": "rp_wCpMjqt5w",
        "colab_type": "text"
      },
      "source": [
        "$\n",
        "Visualization\n",
        "$"
      ]
    },
    {
      "cell_type": "code",
      "metadata": {
        "id": "syg8NjwMqw_F",
        "colab_type": "code",
        "colab": {}
      },
      "source": [
        "def plot(input, gtlabel, output, colours, path, visualize, compare_bilinear=False):\n",
        "    grey = np.transpose(input[:10,:,:,:], [0,2,3,1])\n",
        "    gtcolor = get_cat_rgb(gtlabel[:10,0,:,:], colours)\n",
        "    predcolor = get_cat_rgb(output[:10,0,:,:], colours)\n",
        "\n",
        "    img_stack = [\n",
        "      np.hstack(np.tile(grey, [1,1,1,3])),\n",
        "      np.hstack(gtcolor),\n",
        "      np.hstack(predcolor)]\n",
        "    \n",
        "    if compare_bilinear:\n",
        "      downsize_module = nn.Sequential(nn.AvgPool2d(2),\n",
        "                                 nn.AvgPool2d(2), \n",
        "                                 nn.Upsample(scale_factor=2, mode='bilinear'), \n",
        "                                 nn.Upsample(scale_factor=2, mode='bilinear'))\n",
        "      gt_input = np.transpose(gtcolor, [0, 3, 1, 2,])\n",
        "      color_bilinear = downsize_module.forward(torch.from_numpy(gt_input).float())\n",
        "      color_bilinear = np.transpose(color_bilinear.data.numpy(), [0, 2, 3, 1])\n",
        "      img_stack = [\n",
        "        np.hstack(np.transpose(input[:10,:,:,:], [0,2,3,1])),\n",
        "        np.hstack(gtcolor),\n",
        "        np.hstack(predcolor),\n",
        "        np.hstack(color_bilinear)]\n",
        "    img = np.vstack(img_stack)\n",
        "    \n",
        "    plt.grid('off')\n",
        "    plt.imshow(img, vmin=0., vmax=1.)\n",
        "    if visualize:\n",
        "      plt.show()\n",
        "    else:\n",
        "      plt.savefig(path)\n",
        "\n",
        "def toimage(img, cmin, cmax):\n",
        "    return PIL.Image.fromarray((img.clip(cmin, cmax)*255).astype(np.uint8))\n",
        "  \n",
        "    "
      ],
      "execution_count": 0,
      "outputs": []
    },
    {
      "cell_type": "markdown",
      "metadata": {
        "id": "xIa_fiZYnRy7",
        "colab_type": "text"
      },
      "source": [
        "$\n",
        "Train\\;Function\n",
        "$"
      ]
    },
    {
      "cell_type": "code",
      "metadata": {
        "id": "LtAdbbzHnP-n",
        "colab_type": "code",
        "colab": {}
      },
      "source": [
        "class AttrDict(dict):\n",
        "    def __init__(self, *args, **kwargs):\n",
        "        super(AttrDict, self).__init__(*args, **kwargs)\n",
        "        self.__dict__ = self\n",
        "\n",
        "def train(args, cnn=None):\n",
        "    # Set the maximum number of threads to prevent crash in Teaching Labs\n",
        "    torch.set_num_threads(5)\n",
        "    # Numpy random seed\n",
        "    npr.seed(args.seed)\n",
        "    \n",
        "    # Save directory\n",
        "    save_dir = \"outputs/\" + args.experiment_name\n",
        "\n",
        "    # LOAD THE COLOURS CATEGORIES\n",
        "    colours = np.load(args.colours,allow_pickle=True,encoding = 'latin1')[0]\n",
        "    num_colours = np.shape(colours)[0]\n",
        "    # INPUT CHANNEL\n",
        "    num_in_channels = 1 if not args.downsize_input else 3\n",
        "    # LOAD THE MODEL\n",
        "    if cnn is None:\n",
        "      if args.model == \"CNN\":\n",
        "          cnn = CNN(args.kernel, args.num_filters, num_colours, num_in_channels)\n",
        "      elif args.model == \"UNet\":\n",
        "          cnn = UNet(args.kernel, args.num_filters, num_colours, num_in_channels)\n",
        "\n",
        "    # LOSS FUNCTION\n",
        "    criterion = nn.CrossEntropyLoss()\n",
        "    optimizer = torch.optim.Adam(cnn.parameters(), lr=args.learn_rate)\n",
        "\n",
        "    # DATA\n",
        "    print(\"Loading data...\")\n",
        "    (x_train, y_train), (x_test, y_test) = load_cifar10()\n",
        "\n",
        "    print(\"Transforming data...\")\n",
        "    train_rgb, train_grey = process(x_train, y_train, downsize_input = args.downsize_input)\n",
        "    train_rgb_cat = get_rgb_cat(train_rgb, colours)\n",
        "    test_rgb, test_grey = process(x_test, y_test, downsize_input = args.downsize_input)\n",
        "    test_rgb_cat = get_rgb_cat(test_rgb, colours)\n",
        "\n",
        "    # Create the outputs folder if not created already\n",
        "    if not os.path.exists(save_dir):\n",
        "        os.makedirs(save_dir)\n",
        "\n",
        "    print(\"Beginning training ...\")\n",
        "    if args.gpu: cnn.cuda()\n",
        "    start = time.time()\n",
        "\n",
        "    train_losses = []\n",
        "    valid_losses = []\n",
        "    valid_accs = []\n",
        "    for epoch in range(args.epochs):\n",
        "        # Train the Model\n",
        "        cnn.train() # Change model to 'train' mode\n",
        "        losses = []\n",
        "        for i, (xs, ys) in enumerate(get_batch(train_grey,\n",
        "                                               train_rgb_cat,\n",
        "                                               args.batch_size)):\n",
        "            images, labels = get_torch_vars(xs, ys, args.gpu)\n",
        "            # Forward + Backward + Optimize\n",
        "            optimizer.zero_grad()\n",
        "            outputs = cnn(images)\n",
        "\n",
        "            loss = compute_loss(criterion,\n",
        "                                outputs,\n",
        "                                labels,\n",
        "                                batch_size=args.batch_size,\n",
        "                                num_colours=num_colours)\n",
        "            loss.backward()\n",
        "            optimizer.step()\n",
        "            losses.append(loss.data.item())\n",
        "\n",
        "        # plot training images\n",
        "        if args.plot:\n",
        "            _, predicted = torch.max(outputs.data, 1, keepdim=True)\n",
        "            plot(xs, ys, predicted.cpu().numpy(), colours,\n",
        "                 save_dir+'/train_%d.png' % epoch, \n",
        "                 args.visualize, \n",
        "                 args.downsize_input)\n",
        "\n",
        "        # plot training images\n",
        "        avg_loss = np.mean(losses)\n",
        "        train_losses.append(avg_loss)\n",
        "        time_elapsed = time.time() - start\n",
        "        print('Epoch [%d/%d], Loss: %.4f, Time (s): %d' % (\n",
        "            epoch+1, args.epochs, avg_loss, time_elapsed))\n",
        "\n",
        "        # Evaluate the model\n",
        "        cnn.eval()  # Change model to 'eval' mode (BN uses moving mean/var).\n",
        "        val_loss, val_acc = run_validation_step(cnn,\n",
        "                                                criterion,\n",
        "                                                test_grey,\n",
        "                                                test_rgb_cat,\n",
        "                                                args.batch_size,\n",
        "                                                colours,\n",
        "                                                save_dir+'/test_%d.png' % epoch,\n",
        "                                                args.visualize,\n",
        "                                                args.downsize_input)\n",
        "\n",
        "        time_elapsed = time.time() - start\n",
        "        valid_losses.append(val_loss)\n",
        "        valid_accs.append(val_acc)\n",
        "        print('Epoch [%d/%d], Val Loss: %.4f, Val Acc: %.1f%%, Time(s): %d' % (\n",
        "            epoch+1, args.epochs, val_loss, val_acc, time_elapsed))\n",
        "    \n",
        "    # Plot training curve\n",
        "    plt.figure()\n",
        "    plt.plot(train_losses, \"ro-\", label=\"Train\")\n",
        "    plt.plot(valid_losses, \"go-\", label=\"Validation\")\n",
        "    plt.legend()\n",
        "    plt.title(\"Loss\")\n",
        "    plt.xlabel(\"Epochs\")\n",
        "    plt.savefig(save_dir+\"/training_curve.png\")\n",
        "\n",
        "    if args.checkpoint:\n",
        "        print('Saving model...')\n",
        "        torch.save(cnn.state_dict(), args.checkpoint)\n",
        "    \n",
        "    return cnn"
      ],
      "execution_count": 0,
      "outputs": []
    },
    {
      "cell_type": "code",
      "metadata": {
        "id": "_JlJUlETG121",
        "colab_type": "code",
        "colab": {}
      },
      "source": [
        "class MyConv2d(nn.Module):\n",
        "    def __init__(self, in_channels, out_channels, kernel_size, padding=None):\n",
        "        super(MyConv2d, self).__init__()\n",
        "\n",
        "        self.in_channels = in_channels\n",
        "        self.out_channels = out_channels\n",
        "        self.kernel_size = kernel_size\n",
        "        if padding is None:\n",
        "            self.padding = kernel_size // 2\n",
        "        else:\n",
        "            self.padding = padding\n",
        "        self.weight = nn.parameter.Parameter(torch.Tensor(\n",
        "            out_channels, in_channels, kernel_size, kernel_size))\n",
        "        self.bias = nn.parameter.Parameter(torch.Tensor(out_channels))\n",
        "        self.reset_parameters()\n",
        "\n",
        "    def reset_parameters(self):\n",
        "        n = self.in_channels * self.kernel_size * self.kernel_size\n",
        "        stdv = 1. / math.sqrt(n)\n",
        "        self.weight.data.uniform_(-stdv, stdv)\n",
        "        self.bias.data.uniform_(-stdv, stdv)\n",
        "\n",
        "    def forward(self, input):\n",
        "        return F.conv2d(input, self.weight, self.bias, padding=self.padding)\n"
      ],
      "execution_count": 0,
      "outputs": []
    },
    {
      "cell_type": "markdown",
      "metadata": {
        "id": "z1oEDy1auy30",
        "colab_type": "text"
      },
      "source": [
        "$\n",
        "UNet\\;Function\n",
        "$"
      ]
    },
    {
      "cell_type": "code",
      "metadata": {
        "id": "S9NQ10W_glq5",
        "colab_type": "code",
        "colab": {}
      },
      "source": [
        "class UNet(nn.Module):\n",
        "    def __init__(self, kernel, num_filters, num_colours, num_in_channels):\n",
        "        super(UNet, self).__init__()\n",
        "        padding = kernel // 2\n",
        "\n",
        "        self.downconv1 = nn.Sequential(\n",
        "            MyConv2d(num_in_channels, num_filters, kernel_size=kernel, padding=padding),\n",
        "            nn.BatchNorm2d(num_filters),\n",
        "            nn.ReLU(),\n",
        "            nn.MaxPool2d(2),)\n",
        "        self.downconv2 = nn.Sequential(\n",
        "            MyConv2d(num_filters, num_filters*2, kernel_size=kernel, padding=padding),\n",
        "            nn.BatchNorm2d(num_filters*2),\n",
        "            nn.ReLU(),\n",
        "            nn.MaxPool2d(2),)\n",
        "\n",
        "        self.rfconv = nn.Sequential(\n",
        "            MyConv2d(num_filters*2, num_filters*2, kernel_size=kernel, padding=padding),\n",
        "            nn.BatchNorm2d(num_filters*2),\n",
        "            nn.ReLU())\n",
        "\n",
        "        self.upconv1 = nn.Sequential(\n",
        "            MyConv2d(num_filters*2*2, num_filters, kernel_size=kernel, padding=padding),\n",
        "            nn.BatchNorm2d(num_filters),\n",
        "            nn.ReLU(),\n",
        "            nn.Upsample(scale_factor=2),)\n",
        "        self.upconv2 = nn.Sequential(\n",
        "            MyConv2d(num_filters*2, 3, kernel_size=kernel, padding=padding),\n",
        "            nn.BatchNorm2d(3),\n",
        "            nn.ReLU(),\n",
        "            nn.Upsample(scale_factor=2),)\n",
        "        self.finalconv = MyConv2d(3+num_in_channels, 24, kernel_size=kernel)\n",
        "\n",
        "    def forward(self, x):\n",
        "        self.out1 = self.downconv1(x)\n",
        "        self.out2 = self.downconv2(self.out1)\n",
        "        self.out3 = self.rfconv(self.out2)\n",
        "        self.skip1 = torch.cat((self.out3,self.out2),1)\n",
        "        self.out4 = self.upconv1(self.skip1)\n",
        "        self.skip2 = torch.cat((self.out4,self.out1),1)\n",
        "        self.out5 = self.upconv2(self.skip2)\n",
        "        self.skip3 = torch.cat((self.out5,x),1)\n",
        "        self.out_final = self.finalconv(self.skip3)\n",
        "        return self.out_final"
      ],
      "execution_count": 0,
      "outputs": []
    },
    {
      "cell_type": "markdown",
      "metadata": {
        "id": "ZXJzGP8inYF9",
        "colab_type": "text"
      },
      "source": [
        "$\n",
        "Unet\\;training\n",
        "$"
      ]
    },
    {
      "cell_type": "code",
      "metadata": {
        "id": "2-vGs7qHndmY",
        "colab_type": "code",
        "outputId": "ebd14bd7-8aca-44fe-b65b-521d7b989987",
        "colab": {
          "base_uri": "https://localhost:8080/",
          "height": 1000
        }
      },
      "source": [
        "args = AttrDict()\n",
        "args_dict = {\n",
        "              'gpu':True, \n",
        "              'valid':False, \n",
        "              'checkpoint':\"\", \n",
        "              'colours':'./data/colours/colour_kmeans24_cat7.npy', \n",
        "              'model':\"UNet\", \n",
        "              'kernel':3,\n",
        "              'num_filters':32, \n",
        "              'learn_rate':0.01, \n",
        "              'batch_size':100, \n",
        "              'epochs':25, \n",
        "              'seed':0,\n",
        "              'plot':True, \n",
        "              'experiment_name': 'colourization_unet',\n",
        "              'visualize': False,\n",
        "              'downsize_input':False,\n",
        "}\n",
        "args.update(args_dict)\n",
        "unet_cnn = train(args)"
      ],
      "execution_count": 18,
      "outputs": [
        {
          "output_type": "stream",
          "text": [
            "Loading data...\n",
            "data/cifar-10-batches-py.tar.gz\n",
            "Transforming data...\n",
            "Beginning training ...\n",
            "Epoch [1/25], Loss: 2.3507, Time (s): 0\n",
            "Epoch [1/25], Val Loss: 2.0936, Val Acc: 26.8%, Time(s): 1\n",
            "Epoch [2/25], Loss: 1.9024, Time (s): 1\n",
            "Epoch [2/25], Val Loss: 1.9046, Val Acc: 31.5%, Time(s): 2\n",
            "Epoch [3/25], Loss: 1.7944, Time (s): 2\n",
            "Epoch [3/25], Val Loss: 1.9017, Val Acc: 31.0%, Time(s): 3\n",
            "Epoch [4/25], Loss: 1.7364, Time (s): 4\n",
            "Epoch [4/25], Val Loss: 1.8434, Val Acc: 32.4%, Time(s): 4\n",
            "Epoch [5/25], Loss: 1.6976, Time (s): 5\n",
            "Epoch [5/25], Val Loss: 1.7623, Val Acc: 35.1%, Time(s): 5\n",
            "Epoch [6/25], Loss: 1.6709, Time (s): 6\n",
            "Epoch [6/25], Val Loss: 1.7443, Val Acc: 35.9%, Time(s): 6\n",
            "Epoch [7/25], Loss: 1.6522, Time (s): 7\n",
            "Epoch [7/25], Val Loss: 1.7013, Val Acc: 37.3%, Time(s): 7\n",
            "Epoch [8/25], Loss: 1.6377, Time (s): 8\n",
            "Epoch [8/25], Val Loss: 1.6368, Val Acc: 40.1%, Time(s): 8\n",
            "Epoch [9/25], Loss: 1.6240, Time (s): 9\n",
            "Epoch [9/25], Val Loss: 1.5964, Val Acc: 41.5%, Time(s): 9\n",
            "Epoch [10/25], Loss: 1.6040, Time (s): 10\n",
            "Epoch [10/25], Val Loss: 1.5783, Val Acc: 42.1%, Time(s): 11\n",
            "Epoch [11/25], Loss: 1.5931, Time (s): 12\n",
            "Epoch [11/25], Val Loss: 1.5666, Val Acc: 42.1%, Time(s): 12\n",
            "Epoch [12/25], Loss: 1.5782, Time (s): 13\n",
            "Epoch [12/25], Val Loss: 1.5504, Val Acc: 42.7%, Time(s): 13\n",
            "Epoch [13/25], Loss: 1.5670, Time (s): 14\n",
            "Epoch [13/25], Val Loss: 1.5338, Val Acc: 43.5%, Time(s): 14\n",
            "Epoch [14/25], Loss: 1.5546, Time (s): 15\n",
            "Epoch [14/25], Val Loss: 1.5326, Val Acc: 43.2%, Time(s): 16\n",
            "Epoch [15/25], Loss: 1.5440, Time (s): 17\n",
            "Epoch [15/25], Val Loss: 1.5123, Val Acc: 44.0%, Time(s): 17\n",
            "Epoch [16/25], Loss: 1.5327, Time (s): 18\n",
            "Epoch [16/25], Val Loss: 1.5155, Val Acc: 43.8%, Time(s): 18\n",
            "Epoch [17/25], Loss: 1.5224, Time (s): 19\n",
            "Epoch [17/25], Val Loss: 1.5083, Val Acc: 44.0%, Time(s): 20\n",
            "Epoch [18/25], Loss: 1.5123, Time (s): 21\n",
            "Epoch [18/25], Val Loss: 1.5125, Val Acc: 43.6%, Time(s): 21\n",
            "Epoch [19/25], Loss: 1.5025, Time (s): 22\n",
            "Epoch [19/25], Val Loss: 1.5126, Val Acc: 43.5%, Time(s): 23\n",
            "Epoch [20/25], Loss: 1.4932, Time (s): 24\n",
            "Epoch [20/25], Val Loss: 1.4895, Val Acc: 44.5%, Time(s): 24\n",
            "Epoch [21/25], Loss: 1.4834, Time (s): 25\n",
            "Epoch [21/25], Val Loss: 1.4949, Val Acc: 44.3%, Time(s): 26\n",
            "Epoch [22/25], Loss: 1.4744, Time (s): 27\n",
            "Epoch [22/25], Val Loss: 1.4910, Val Acc: 44.3%, Time(s): 27\n",
            "Epoch [23/25], Loss: 1.4649, Time (s): 28\n",
            "Epoch [23/25], Val Loss: 1.4920, Val Acc: 44.1%, Time(s): 29\n",
            "Epoch [24/25], Loss: 1.4549, Time (s): 30\n",
            "Epoch [24/25], Val Loss: 1.4895, Val Acc: 44.2%, Time(s): 30\n",
            "Epoch [25/25], Loss: 1.4444, Time (s): 31\n",
            "Epoch [25/25], Val Loss: 1.4631, Val Acc: 45.3%, Time(s): 32\n"
          ],
          "name": "stdout"
        },
        {
          "output_type": "display_data",
          "data": {
            "image/png": "[encoded data removed]",
            "text/plain": [
              "<Figure size 432x288 with 1 Axes>"
            ]
          },
          "metadata": {
            "tags": []
          }
        },
        {
          "output_type": "display_data",
          "data": {
            "image/png": "[encoded data removed]",
            "text/plain": [
              "<Figure size 432x288 with 1 Axes>"
            ]
          },
          "metadata": {
            "tags": []
          }
        }
      ]
    }
  ]
}